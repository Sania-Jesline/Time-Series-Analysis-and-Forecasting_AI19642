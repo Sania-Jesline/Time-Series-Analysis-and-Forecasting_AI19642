{
  "nbformat": 4,
  "nbformat_minor": 0,
  "metadata": {
    "colab": {
      "provenance": []
    },
    "kernelspec": {
      "name": "python3",
      "display_name": "Python 3"
    },
    "language_info": {
      "name": "python"
    }
  },
  "cells": [
    {
      "cell_type": "code",
      "execution_count": 1,
      "metadata": {
        "colab": {
          "base_uri": "https://localhost:8080/"
        },
        "id": "xKcZHyhvf5yZ",
        "outputId": "6646f7d5-c599-4829-bdc6-1cb5175a5b34"
      },
      "outputs": [
        {
          "output_type": "stream",
          "name": "stdout",
          "text": [
            "📊 ADF Test p-value: 0.0000\n",
            "✅ The series is stationary.\n"
          ]
        }
      ],
      "source": [
        "import pandas as pd\n",
        "from statsmodels.tsa.stattools import adfuller\n",
        "\n",
        "# Load dataset\n",
        "df = pd.read_csv(\"/content/trends.csv\")  # Replace with actual file path\n",
        "\n",
        "# Ensure 'year' is in datetime format and set as index\n",
        "df[\"year\"] = pd.to_datetime(df[\"year\"], format=\"%Y\")\n",
        "df.set_index(\"year\", inplace=True)\n",
        "\n",
        "# Select the time series column (e.g., 'rank')\n",
        "ts = df[\"rank\"].dropna()\n",
        "\n",
        "# ADF Test\n",
        "adf_result = adfuller(ts)\n",
        "print(f\"📊 ADF Test p-value: {adf_result[1]:.4f}\")\n",
        "\n",
        "# Interpretation\n",
        "if adf_result[1] < 0.05:\n",
        "    print(\"✅ The series is stationary.\")\n",
        "else:\n",
        "    print(\"❌ The series is NOT stationary.\")\n"
      ]
    }
  ]
}